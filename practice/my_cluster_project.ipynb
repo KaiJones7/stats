{
 "cells": [
  {
   "cell_type": "code",
   "execution_count": 1,
   "metadata": {},
   "outputs": [],
   "source": [
    "### loading packages\n",
    "\n",
    "import pandas as pd\n",
    "import numpy as np\n",
    "import matplotlib.pyplot as plt\n",
    "import seaborn as sns"
   ]
  },
  {
   "cell_type": "code",
   "execution_count": 2,
   "metadata": {},
   "outputs": [],
   "source": [
    "pd.set_option(\"display.expand_frame_repr\", False)\n"
   ]
  },
  {
   "cell_type": "code",
   "execution_count": 3,
   "metadata": {},
   "outputs": [],
   "source": [
    "df = pd.read_csv('game_product_data.csv')"
   ]
  },
  {
   "cell_type": "code",
   "execution_count": 4,
   "metadata": {},
   "outputs": [
    {
     "name": "stdout",
     "output_type": "stream",
     "text": [
      "   listing_id  product_id  sku_id  retailer_id  points  geography_id  publisher_id  industry_id  importance release_date  lifecycle  current_age_months  remaining_lifecycle_months\n",
      "0      529407        3829   33998         1243       0            78             3            1         1.0   2021-10-01       18.0                22.0                        -4.0\n",
      "1      529559        3831   27559         1243       0            78             3            1         1.0   2021-10-01       18.0                22.0                        -4.0\n",
      "2      529676        3831   27559         1246       0            89             3            1         1.0   2021-10-01       18.0                22.0                        -4.0\n",
      "3      529681        3830   27384         1246       0            89             3            1         1.0   2021-10-01       18.0                22.0                        -4.0\n",
      "4      529707        1030   14621         1246       0            89             1            1         3.0   2021-10-12       36.0                21.0                        15.0\n"
     ]
    }
   ],
   "source": [
    "print(df.head())"
   ]
  },
  {
   "cell_type": "code",
   "execution_count": 5,
   "metadata": {},
   "outputs": [
    {
     "name": "stdout",
     "output_type": "stream",
     "text": [
      "<class 'pandas.core.frame.DataFrame'>\n",
      "RangeIndex: 415962 entries, 0 to 415961\n",
      "Data columns (total 13 columns):\n",
      " #   Column                      Non-Null Count   Dtype  \n",
      "---  ------                      --------------   -----  \n",
      " 0   listing_id                  415962 non-null  int64  \n",
      " 1   product_id                  415962 non-null  int64  \n",
      " 2   sku_id                      415962 non-null  int64  \n",
      " 3   retailer_id                 415962 non-null  int64  \n",
      " 4   points                      415962 non-null  int64  \n",
      " 5   geography_id                415962 non-null  int64  \n",
      " 6   publisher_id                415962 non-null  int64  \n",
      " 7   industry_id                 415962 non-null  int64  \n",
      " 8   importance                  413648 non-null  float64\n",
      " 9   release_date                415962 non-null  object \n",
      " 10  lifecycle                   405553 non-null  float64\n",
      " 11  current_age_months          415962 non-null  float64\n",
      " 12  remaining_lifecycle_months  405553 non-null  float64\n",
      "dtypes: float64(4), int64(8), object(1)\n",
      "memory usage: 41.3+ MB\n"
     ]
    }
   ],
   "source": [
    "df.info()"
   ]
  },
  {
   "cell_type": "code",
   "execution_count": 6,
   "metadata": {},
   "outputs": [
    {
     "data": {
      "text/html": [
       "<div>\n",
       "<style scoped>\n",
       "    .dataframe tbody tr th:only-of-type {\n",
       "        vertical-align: middle;\n",
       "    }\n",
       "\n",
       "    .dataframe tbody tr th {\n",
       "        vertical-align: top;\n",
       "    }\n",
       "\n",
       "    .dataframe thead th {\n",
       "        text-align: right;\n",
       "    }\n",
       "</style>\n",
       "<table border=\"1\" class=\"dataframe\">\n",
       "  <thead>\n",
       "    <tr style=\"text-align: right;\">\n",
       "      <th></th>\n",
       "      <th>listing_id</th>\n",
       "      <th>product_id</th>\n",
       "      <th>sku_id</th>\n",
       "      <th>retailer_id</th>\n",
       "      <th>points</th>\n",
       "      <th>geography_id</th>\n",
       "      <th>publisher_id</th>\n",
       "      <th>industry_id</th>\n",
       "      <th>importance</th>\n",
       "      <th>lifecycle</th>\n",
       "      <th>current_age_months</th>\n",
       "      <th>remaining_lifecycle_months</th>\n",
       "    </tr>\n",
       "  </thead>\n",
       "  <tbody>\n",
       "    <tr>\n",
       "      <th>count</th>\n",
       "      <td>415962.000000</td>\n",
       "      <td>415962.000000</td>\n",
       "      <td>415962.000000</td>\n",
       "      <td>415962.000000</td>\n",
       "      <td>415962.000000</td>\n",
       "      <td>415962.000000</td>\n",
       "      <td>415962.000000</td>\n",
       "      <td>415962.0</td>\n",
       "      <td>413648.000000</td>\n",
       "      <td>405553.000000</td>\n",
       "      <td>415962.000000</td>\n",
       "      <td>405553.000000</td>\n",
       "    </tr>\n",
       "    <tr>\n",
       "      <th>mean</th>\n",
       "      <td>510763.969089</td>\n",
       "      <td>4355.439485</td>\n",
       "      <td>33530.448440</td>\n",
       "      <td>466.194840</td>\n",
       "      <td>15.107945</td>\n",
       "      <td>40.995127</td>\n",
       "      <td>95.577995</td>\n",
       "      <td>1.0</td>\n",
       "      <td>2.213592</td>\n",
       "      <td>38.664542</td>\n",
       "      <td>23.364014</td>\n",
       "      <td>15.338619</td>\n",
       "    </tr>\n",
       "    <tr>\n",
       "      <th>std</th>\n",
       "      <td>211720.248501</td>\n",
       "      <td>2881.869798</td>\n",
       "      <td>17678.292116</td>\n",
       "      <td>368.505244</td>\n",
       "      <td>24.051004</td>\n",
       "      <td>22.540840</td>\n",
       "      <td>164.455692</td>\n",
       "      <td>0.0</td>\n",
       "      <td>1.012643</td>\n",
       "      <td>57.158309</td>\n",
       "      <td>15.709915</td>\n",
       "      <td>55.917437</td>\n",
       "    </tr>\n",
       "    <tr>\n",
       "      <th>min</th>\n",
       "      <td>359.000000</td>\n",
       "      <td>4.000000</td>\n",
       "      <td>24.000000</td>\n",
       "      <td>1.000000</td>\n",
       "      <td>0.000000</td>\n",
       "      <td>1.000000</td>\n",
       "      <td>1.000000</td>\n",
       "      <td>1.0</td>\n",
       "      <td>1.000000</td>\n",
       "      <td>0.000000</td>\n",
       "      <td>-16.000000</td>\n",
       "      <td>-26.000000</td>\n",
       "    </tr>\n",
       "    <tr>\n",
       "      <th>25%</th>\n",
       "      <td>367200.250000</td>\n",
       "      <td>1336.000000</td>\n",
       "      <td>19219.000000</td>\n",
       "      <td>201.000000</td>\n",
       "      <td>2.000000</td>\n",
       "      <td>22.000000</td>\n",
       "      <td>6.000000</td>\n",
       "      <td>1.0</td>\n",
       "      <td>1.000000</td>\n",
       "      <td>24.000000</td>\n",
       "      <td>13.000000</td>\n",
       "      <td>4.000000</td>\n",
       "    </tr>\n",
       "    <tr>\n",
       "      <th>50%</th>\n",
       "      <td>521276.500000</td>\n",
       "      <td>4513.000000</td>\n",
       "      <td>33389.000000</td>\n",
       "      <td>355.000000</td>\n",
       "      <td>4.000000</td>\n",
       "      <td>46.000000</td>\n",
       "      <td>19.000000</td>\n",
       "      <td>1.0</td>\n",
       "      <td>2.000000</td>\n",
       "      <td>36.000000</td>\n",
       "      <td>22.000000</td>\n",
       "      <td>13.000000</td>\n",
       "    </tr>\n",
       "    <tr>\n",
       "      <th>75%</th>\n",
       "      <td>684300.750000</td>\n",
       "      <td>6743.000000</td>\n",
       "      <td>46453.500000</td>\n",
       "      <td>696.000000</td>\n",
       "      <td>24.000000</td>\n",
       "      <td>63.000000</td>\n",
       "      <td>71.000000</td>\n",
       "      <td>1.0</td>\n",
       "      <td>3.000000</td>\n",
       "      <td>48.000000</td>\n",
       "      <td>29.000000</td>\n",
       "      <td>25.000000</td>\n",
       "    </tr>\n",
       "    <tr>\n",
       "      <th>max</th>\n",
       "      <td>868719.000000</td>\n",
       "      <td>10680.000000</td>\n",
       "      <td>75005.000000</td>\n",
       "      <td>1558.000000</td>\n",
       "      <td>120.000000</td>\n",
       "      <td>89.000000</td>\n",
       "      <td>960.000000</td>\n",
       "      <td>1.0</td>\n",
       "      <td>5.000000</td>\n",
       "      <td>9056.000000</td>\n",
       "      <td>121.000000</td>\n",
       "      <td>9039.000000</td>\n",
       "    </tr>\n",
       "  </tbody>\n",
       "</table>\n",
       "</div>"
      ],
      "text/plain": [
       "          listing_id     product_id         sku_id    retailer_id         points   geography_id   publisher_id  industry_id     importance      lifecycle  current_age_months  remaining_lifecycle_months\n",
       "count  415962.000000  415962.000000  415962.000000  415962.000000  415962.000000  415962.000000  415962.000000     415962.0  413648.000000  405553.000000       415962.000000               405553.000000\n",
       "mean   510763.969089    4355.439485   33530.448440     466.194840      15.107945      40.995127      95.577995          1.0       2.213592      38.664542           23.364014                   15.338619\n",
       "std    211720.248501    2881.869798   17678.292116     368.505244      24.051004      22.540840     164.455692          0.0       1.012643      57.158309           15.709915                   55.917437\n",
       "min       359.000000       4.000000      24.000000       1.000000       0.000000       1.000000       1.000000          1.0       1.000000       0.000000          -16.000000                  -26.000000\n",
       "25%    367200.250000    1336.000000   19219.000000     201.000000       2.000000      22.000000       6.000000          1.0       1.000000      24.000000           13.000000                    4.000000\n",
       "50%    521276.500000    4513.000000   33389.000000     355.000000       4.000000      46.000000      19.000000          1.0       2.000000      36.000000           22.000000                   13.000000\n",
       "75%    684300.750000    6743.000000   46453.500000     696.000000      24.000000      63.000000      71.000000          1.0       3.000000      48.000000           29.000000                   25.000000\n",
       "max    868719.000000   10680.000000   75005.000000    1558.000000     120.000000      89.000000     960.000000          1.0       5.000000    9056.000000          121.000000                 9039.000000"
      ]
     },
     "execution_count": 6,
     "metadata": {},
     "output_type": "execute_result"
    }
   ],
   "source": [
    "df.describe()"
   ]
  },
  {
   "cell_type": "code",
   "execution_count": 7,
   "metadata": {},
   "outputs": [],
   "source": [
    "df = df.dropna()"
   ]
  },
  {
   "cell_type": "code",
   "execution_count": 8,
   "metadata": {},
   "outputs": [],
   "source": [
    "df.drop(columns='release_date', inplace = True)"
   ]
  },
  {
   "cell_type": "code",
   "execution_count": 9,
   "metadata": {},
   "outputs": [],
   "source": [
    "grouped_df = df.groupby('publisher_id').agg({\n",
    "    'sku_id': 'nunique',\n",
    "    'product_id': 'nunique',\n",
    "    'retailer_id': 'nunique',\n",
    "    'points': ['sum', 'mean'],  \n",
    "    'importance': lambda x: x.mode().iloc[0],\n",
    "    'remaining_lifecycle_months': 'mean',\n",
    "    'geography_id': 'nunique',\n",
    "    'publisher_id': 'size'\n",
    " })"
   ]
  },
  {
   "cell_type": "code",
   "execution_count": 10,
   "metadata": {},
   "outputs": [
    {
     "name": "stdout",
     "output_type": "stream",
     "text": [
      "              sku_id product_id retailer_id  points            importance remaining_lifecycle_months geography_id publisher_id\n",
      "             nunique    nunique     nunique     sum       mean   <lambda>                       mean      nunique         size\n",
      "publisher_id                                                                                                                  \n",
      "1               1298         50         930  257739  12.520719        2.0                  22.383483           77        20585\n",
      "2               1620         60        1014  299713  12.419733        1.0                  20.702511           79        24132\n",
      "3               1764        110         983  401275  14.062062        1.0                   7.693405           79        28536\n",
      "4               1542         69         913  327091  14.462814        1.0                   4.615715           78        22616\n",
      "5                261         26         597   50087  14.792380        2.0                  19.500295           73         3386\n"
     ]
    }
   ],
   "source": [
    "print(grouped_df.head())"
   ]
  },
  {
   "cell_type": "code",
   "execution_count": 15,
   "metadata": {},
   "outputs": [],
   "source": [
    "from sklearn.datasets import make_blobs, make_circles, make_moons\n",
    "\n",
    "from sklearn.preprocessing import StandardScaler\n",
    "from sklearn.preprocessing import MinMaxScaler\n",
    "\n",
    "from sklearn.cluster import KMeans\n",
    "from sklearn.cluster import DBSCAN\n",
    "\n",
    "from pyclustertend import hopkins\n",
    "from sklearn.metrics import silhouette_score\n",
    "\n",
    "import datetime\n",
    "import warnings"
   ]
  },
  {
   "cell_type": "code",
   "execution_count": 12,
   "metadata": {},
   "outputs": [],
   "source": [
    "scaled_df = StandardScaler().fit_transform(grouped_df)"
   ]
  },
  {
   "cell_type": "code",
   "execution_count": 13,
   "metadata": {},
   "outputs": [
    {
     "data": {
      "text/plain": [
       "(515, 9)"
      ]
     },
     "execution_count": 13,
     "metadata": {},
     "output_type": "execute_result"
    }
   ],
   "source": [
    "scaled_df.shape"
   ]
  },
  {
   "cell_type": "code",
   "execution_count": 16,
   "metadata": {},
   "outputs": [
    {
     "data": {
      "text/plain": [
       "0.0545294401821716"
      ]
     },
     "execution_count": 16,
     "metadata": {},
     "output_type": "execute_result"
    }
   ],
   "source": [
    "from pyclustertend import hopkins \n",
    "hopkins(scaled_df,515)"
   ]
  },
  {
   "cell_type": "code",
   "execution_count": 17,
   "metadata": {},
   "outputs": [
    {
     "name": "stdout",
     "output_type": "stream",
     "text": [
      "For n_clusters = 2 The average silhouette_score is : 0.7377670548193693\n",
      "For n_clusters = 3 The average silhouette_score is : 0.2584638608539313\n",
      "For n_clusters = 4 The average silhouette_score is : 0.38309748501627267\n",
      "For n_clusters = 5 The average silhouette_score is : 0.3017251683002023\n",
      "For n_clusters = 8 The average silhouette_score is : 0.30086059704458973\n",
      "For n_clusters = 10 The average silhouette_score is : 0.27093655924566845\n",
      "For n_clusters = 20 The average silhouette_score is : 0.2761513829055881\n",
      "For n_clusters = 50 The average silhouette_score is : 0.3170575189425214\n",
      "For n_clusters = 100 The average silhouette_score is : 0.3218063814906548\n",
      "For n_clusters = 500 The average silhouette_score is : 0.04850772080338254\n"
     ]
    }
   ],
   "source": [
    "from sklearn.cluster import KMeans\n",
    "\n",
    "## Check which number of clusters works best \n",
    "n_cluster_list = [2,3,4,5,8,10,20,50,100,500] # there can't be more clusters than n\n",
    "\n",
    "elb = []\n",
    "silhouette = []\n",
    "for n_clusters in n_cluster_list:\n",
    "   #iterating through cluster sizes\n",
    "   clusterer = KMeans(n_clusters = n_clusters, random_state=42, n_init = 10)\n",
    "   cluster_labels = clusterer.fit_predict(scaled_df)\n",
    "   #Finding the average silhouette score\n",
    "   silhouette_avg = silhouette_score(scaled_df, cluster_labels)\n",
    "   silhouette.append(silhouette_avg)\n",
    "   print(\"For n_clusters =\", n_clusters,\"The average silhouette_score is :\", silhouette_avg)\n",
    "   #Finding the average SSE\"\n",
    "   elb.append(clusterer.inertia_) # Inertia: Sum of distances of samples to their closest cluster center/within-cluster sum of squares"
   ]
  },
  {
   "cell_type": "code",
   "execution_count": 18,
   "metadata": {},
   "outputs": [
    {
     "data": {
      "image/png": "[encoded data removed]",
      "text/plain": [
       "<Figure size 1008x504 with 2 Axes>"
      ]
     },
     "metadata": {
      "needs_background": "light"
     },
     "output_type": "display_data"
    }
   ],
   "source": [
    "fig = plt.figure(figsize=(14,7))\n",
    "fig.add_subplot(121)\n",
    "plt.plot(n_cluster_list, elb,'bx-',label='Sum of squared error')\n",
    "plt.xlabel(\"Number of cluster\")\n",
    "plt.ylabel(\"SSE\")\n",
    "plt.legend()\n",
    "fig.add_subplot(122)\n",
    "plt.plot(n_cluster_list, silhouette,'bx-',label='Silhouette Score')\n",
    "plt.xlabel(\"Number of cluster\")\n",
    "plt.ylabel(\"Silhouette Score\")\n",
    "plt.legend()\n",
    "plt.show()"
   ]
  },
  {
   "cell_type": "code",
   "execution_count": 20,
   "metadata": {},
   "outputs": [
    {
     "name": "stderr",
     "output_type": "stream",
     "text": [
      "/Users/kaijones/opt/anaconda3/lib/python3.8/site-packages/sklearn/cluster/_kmeans.py:1412: FutureWarning: The default value of `n_init` will change from 10 to 'auto' in 1.4. Set the value of `n_init` explicitly to suppress the warning\n",
      "  super()._check_params_vs_input(X, default_n_init=10)\n"
     ]
    },
    {
     "data": {
      "text/html": [
       "<div>\n",
       "<style scoped>\n",
       "    .dataframe tbody tr th:only-of-type {\n",
       "        vertical-align: middle;\n",
       "    }\n",
       "\n",
       "    .dataframe tbody tr th {\n",
       "        vertical-align: top;\n",
       "    }\n",
       "\n",
       "    .dataframe thead tr th {\n",
       "        text-align: left;\n",
       "    }\n",
       "\n",
       "    .dataframe thead tr:last-of-type th {\n",
       "        text-align: right;\n",
       "    }\n",
       "</style>\n",
       "<table border=\"1\" class=\"dataframe\">\n",
       "  <thead>\n",
       "    <tr>\n",
       "      <th></th>\n",
       "      <th>sku_id</th>\n",
       "      <th>product_id</th>\n",
       "      <th>retailer_id</th>\n",
       "      <th colspan=\"2\" halign=\"left\">points</th>\n",
       "      <th>importance</th>\n",
       "      <th>remaining_lifecycle_months</th>\n",
       "      <th>geography_id</th>\n",
       "      <th>publisher_id</th>\n",
       "      <th>Cluster</th>\n",
       "    </tr>\n",
       "    <tr>\n",
       "      <th></th>\n",
       "      <th>nunique</th>\n",
       "      <th>nunique</th>\n",
       "      <th>nunique</th>\n",
       "      <th>sum</th>\n",
       "      <th>mean</th>\n",
       "      <th>&lt;lambda&gt;</th>\n",
       "      <th>mean</th>\n",
       "      <th>nunique</th>\n",
       "      <th>size</th>\n",
       "      <th></th>\n",
       "    </tr>\n",
       "    <tr>\n",
       "      <th>publisher_id</th>\n",
       "      <th></th>\n",
       "      <th></th>\n",
       "      <th></th>\n",
       "      <th></th>\n",
       "      <th></th>\n",
       "      <th></th>\n",
       "      <th></th>\n",
       "      <th></th>\n",
       "      <th></th>\n",
       "      <th></th>\n",
       "    </tr>\n",
       "  </thead>\n",
       "  <tbody>\n",
       "    <tr>\n",
       "      <th>1</th>\n",
       "      <td>1298</td>\n",
       "      <td>50</td>\n",
       "      <td>930</td>\n",
       "      <td>257739</td>\n",
       "      <td>12.520719</td>\n",
       "      <td>2.0</td>\n",
       "      <td>22.383483</td>\n",
       "      <td>77</td>\n",
       "      <td>20585</td>\n",
       "      <td>1</td>\n",
       "    </tr>\n",
       "    <tr>\n",
       "      <th>2</th>\n",
       "      <td>1620</td>\n",
       "      <td>60</td>\n",
       "      <td>1014</td>\n",
       "      <td>299713</td>\n",
       "      <td>12.419733</td>\n",
       "      <td>1.0</td>\n",
       "      <td>20.702511</td>\n",
       "      <td>79</td>\n",
       "      <td>24132</td>\n",
       "      <td>1</td>\n",
       "    </tr>\n",
       "    <tr>\n",
       "      <th>3</th>\n",
       "      <td>1764</td>\n",
       "      <td>110</td>\n",
       "      <td>983</td>\n",
       "      <td>401275</td>\n",
       "      <td>14.062062</td>\n",
       "      <td>1.0</td>\n",
       "      <td>7.693405</td>\n",
       "      <td>79</td>\n",
       "      <td>28536</td>\n",
       "      <td>1</td>\n",
       "    </tr>\n",
       "    <tr>\n",
       "      <th>4</th>\n",
       "      <td>1542</td>\n",
       "      <td>69</td>\n",
       "      <td>913</td>\n",
       "      <td>327091</td>\n",
       "      <td>14.462814</td>\n",
       "      <td>1.0</td>\n",
       "      <td>4.615715</td>\n",
       "      <td>78</td>\n",
       "      <td>22616</td>\n",
       "      <td>1</td>\n",
       "    </tr>\n",
       "    <tr>\n",
       "      <th>5</th>\n",
       "      <td>261</td>\n",
       "      <td>26</td>\n",
       "      <td>597</td>\n",
       "      <td>50087</td>\n",
       "      <td>14.792380</td>\n",
       "      <td>2.0</td>\n",
       "      <td>19.500295</td>\n",
       "      <td>73</td>\n",
       "      <td>3386</td>\n",
       "      <td>2</td>\n",
       "    </tr>\n",
       "  </tbody>\n",
       "</table>\n",
       "</div>"
      ],
      "text/plain": [
       "              sku_id product_id retailer_id  points            importance remaining_lifecycle_months geography_id publisher_id Cluster\n",
       "             nunique    nunique     nunique     sum       mean   <lambda>                       mean      nunique         size        \n",
       "publisher_id                                                                                                                          \n",
       "1               1298         50         930  257739  12.520719        2.0                  22.383483           77        20585       1\n",
       "2               1620         60        1014  299713  12.419733        1.0                  20.702511           79        24132       1\n",
       "3               1764        110         983  401275  14.062062        1.0                   7.693405           79        28536       1\n",
       "4               1542         69         913  327091  14.462814        1.0                   4.615715           78        22616       1\n",
       "5                261         26         597   50087  14.792380        2.0                  19.500295           73         3386       2"
      ]
     },
     "execution_count": 20,
     "metadata": {},
     "output_type": "execute_result"
    }
   ],
   "source": [
    "kmeans = KMeans(3, random_state = 42).fit(scaled_df)\n",
    "\n",
    "grouped_df['Cluster'] = kmeans.predict(scaled_df)\n",
    "grouped_df.head()"
   ]
  },
  {
   "cell_type": "code",
   "execution_count": 21,
   "metadata": {},
   "outputs": [],
   "source": [
    "cluster_0 = grouped_df[grouped_df['Cluster'] == 0].reset_index()\n",
    "cluster_1 = grouped_df[grouped_df['Cluster'] == 1].reset_index()\n",
    "cluster_2 = grouped_df[grouped_df['Cluster'] == 2].reset_index()\n",
    "\n"
   ]
  },
  {
   "cell_type": "code",
   "execution_count": 22,
   "metadata": {},
   "outputs": [
    {
     "name": "stdout",
     "output_type": "stream",
     "text": [
      "          size\n",
      "0     1  20585\n",
      "1     2  24132\n",
      "2     3  28536\n",
      "3     4  22616\n",
      "4     6  14464\n",
      "5     8  13789\n",
      "6    11  20138\n",
      "7    15  17391\n",
      "8    19  28790\n",
      "9    20  18198\n",
      "10   22   8474\n",
      "11   27   7496\n",
      "12   36  10046\n",
      "13   71   9068\n",
      "14  234   5781\n",
      "15  273   5702\n"
     ]
    }
   ],
   "source": [
    "print(cluster_1.publisher_id)"
   ]
  },
  {
   "cell_type": "code",
   "execution_count": 23,
   "metadata": {},
   "outputs": [
    {
     "data": {
      "text/html": [
       "<div>\n",
       "<style scoped>\n",
       "    .dataframe tbody tr th:only-of-type {\n",
       "        vertical-align: middle;\n",
       "    }\n",
       "\n",
       "    .dataframe tbody tr th {\n",
       "        vertical-align: top;\n",
       "    }\n",
       "\n",
       "    .dataframe thead th {\n",
       "        text-align: right;\n",
       "    }\n",
       "</style>\n",
       "<table border=\"1\" class=\"dataframe\">\n",
       "  <thead>\n",
       "    <tr style=\"text-align: right;\">\n",
       "      <th></th>\n",
       "      <th></th>\n",
       "      <th>size</th>\n",
       "    </tr>\n",
       "  </thead>\n",
       "  <tbody>\n",
       "    <tr>\n",
       "      <th>0</th>\n",
       "      <td>28</td>\n",
       "      <td>3</td>\n",
       "    </tr>\n",
       "    <tr>\n",
       "      <th>1</th>\n",
       "      <td>40</td>\n",
       "      <td>15</td>\n",
       "    </tr>\n",
       "    <tr>\n",
       "      <th>2</th>\n",
       "      <td>46</td>\n",
       "      <td>128</td>\n",
       "    </tr>\n",
       "    <tr>\n",
       "      <th>3</th>\n",
       "      <td>51</td>\n",
       "      <td>17</td>\n",
       "    </tr>\n",
       "    <tr>\n",
       "      <th>4</th>\n",
       "      <td>55</td>\n",
       "      <td>3</td>\n",
       "    </tr>\n",
       "    <tr>\n",
       "      <th>...</th>\n",
       "      <td>...</td>\n",
       "      <td>...</td>\n",
       "    </tr>\n",
       "    <tr>\n",
       "      <th>237</th>\n",
       "      <td>956</td>\n",
       "      <td>2</td>\n",
       "    </tr>\n",
       "    <tr>\n",
       "      <th>238</th>\n",
       "      <td>957</td>\n",
       "      <td>1</td>\n",
       "    </tr>\n",
       "    <tr>\n",
       "      <th>239</th>\n",
       "      <td>958</td>\n",
       "      <td>1</td>\n",
       "    </tr>\n",
       "    <tr>\n",
       "      <th>240</th>\n",
       "      <td>959</td>\n",
       "      <td>1</td>\n",
       "    </tr>\n",
       "    <tr>\n",
       "      <th>241</th>\n",
       "      <td>960</td>\n",
       "      <td>1</td>\n",
       "    </tr>\n",
       "  </tbody>\n",
       "</table>\n",
       "<p>242 rows × 2 columns</p>\n",
       "</div>"
      ],
      "text/plain": [
       "          size\n",
       "0     28     3\n",
       "1     40    15\n",
       "2     46   128\n",
       "3     51    17\n",
       "4     55     3\n",
       "..   ...   ...\n",
       "237  956     2\n",
       "238  957     1\n",
       "239  958     1\n",
       "240  959     1\n",
       "241  960     1\n",
       "\n",
       "[242 rows x 2 columns]"
      ]
     },
     "execution_count": 23,
     "metadata": {},
     "output_type": "execute_result"
    }
   ],
   "source": [
    "cluster_0.publisher_id"
   ]
  },
  {
   "cell_type": "code",
   "execution_count": 24,
   "metadata": {},
   "outputs": [
    {
     "data": {
      "text/html": [
       "<div>\n",
       "<style scoped>\n",
       "    .dataframe tbody tr th:only-of-type {\n",
       "        vertical-align: middle;\n",
       "    }\n",
       "\n",
       "    .dataframe tbody tr th {\n",
       "        vertical-align: top;\n",
       "    }\n",
       "\n",
       "    .dataframe thead th {\n",
       "        text-align: right;\n",
       "    }\n",
       "</style>\n",
       "<table border=\"1\" class=\"dataframe\">\n",
       "  <thead>\n",
       "    <tr style=\"text-align: right;\">\n",
       "      <th></th>\n",
       "      <th></th>\n",
       "      <th>size</th>\n",
       "    </tr>\n",
       "  </thead>\n",
       "  <tbody>\n",
       "    <tr>\n",
       "      <th>0</th>\n",
       "      <td>5</td>\n",
       "      <td>3386</td>\n",
       "    </tr>\n",
       "    <tr>\n",
       "      <th>1</th>\n",
       "      <td>7</td>\n",
       "      <td>1608</td>\n",
       "    </tr>\n",
       "    <tr>\n",
       "      <th>2</th>\n",
       "      <td>10</td>\n",
       "      <td>4233</td>\n",
       "    </tr>\n",
       "    <tr>\n",
       "      <th>3</th>\n",
       "      <td>12</td>\n",
       "      <td>7003</td>\n",
       "    </tr>\n",
       "    <tr>\n",
       "      <th>4</th>\n",
       "      <td>14</td>\n",
       "      <td>895</td>\n",
       "    </tr>\n",
       "    <tr>\n",
       "      <th>...</th>\n",
       "      <td>...</td>\n",
       "      <td>...</td>\n",
       "    </tr>\n",
       "    <tr>\n",
       "      <th>252</th>\n",
       "      <td>858</td>\n",
       "      <td>41</td>\n",
       "    </tr>\n",
       "    <tr>\n",
       "      <th>253</th>\n",
       "      <td>859</td>\n",
       "      <td>155</td>\n",
       "    </tr>\n",
       "    <tr>\n",
       "      <th>254</th>\n",
       "      <td>860</td>\n",
       "      <td>40</td>\n",
       "    </tr>\n",
       "    <tr>\n",
       "      <th>255</th>\n",
       "      <td>861</td>\n",
       "      <td>39</td>\n",
       "    </tr>\n",
       "    <tr>\n",
       "      <th>256</th>\n",
       "      <td>880</td>\n",
       "      <td>45</td>\n",
       "    </tr>\n",
       "  </tbody>\n",
       "</table>\n",
       "<p>257 rows × 2 columns</p>\n",
       "</div>"
      ],
      "text/plain": [
       "          size\n",
       "0      5  3386\n",
       "1      7  1608\n",
       "2     10  4233\n",
       "3     12  7003\n",
       "4     14   895\n",
       "..   ...   ...\n",
       "252  858    41\n",
       "253  859   155\n",
       "254  860    40\n",
       "255  861    39\n",
       "256  880    45\n",
       "\n",
       "[257 rows x 2 columns]"
      ]
     },
     "execution_count": 24,
     "metadata": {},
     "output_type": "execute_result"
    }
   ],
   "source": [
    "cluster_2.publisher_id"
   ]
  }
 ],
 "metadata": {
  "kernelspec": {
   "display_name": "Python 3.8.5 ('base')",
   "language": "python",
   "name": "python3"
  },
  "language_info": {
   "codemirror_mode": {
    "name": "ipython",
    "version": 3
   },
   "file_extension": ".py",
   "mimetype": "text/x-python",
   "name": "python",
   "nbconvert_exporter": "python",
   "pygments_lexer": "ipython3",
   "version": "3.8.5"
  },
  "orig_nbformat": 4,
  "vscode": {
   "interpreter": {
    "hash": "1cae31d526d2d1c8cd0d0173936fae735ea7b418b721ff435ff5b6e012dfb5d6"
   }
  }
 },
 "nbformat": 4,
 "nbformat_minor": 2
}
