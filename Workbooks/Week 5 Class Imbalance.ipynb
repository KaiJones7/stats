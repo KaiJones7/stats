{
 "cells": [
  {
   "cell_type": "markdown",
   "id": "7e0940ee",
   "metadata": {
    "tags": []
   },
   "source": [
    "# Addressing Class Imbalance \n",
    "\n",
    "At this point, you have learnt a fair bit about classification model. In our demo dataset, our target variable has two classes. Is there something that we have failed to address about our target variable? As a professional trainer, we cannot omit the one of most important steps of the data analytics life cycle - Data Exploration and Cleaning!\n",
    "What does your target variable's distribution look like? Are they balance? Is one class represented to a lesser degree? \n",
    "\n",
    "Today, we are going to introduce a few methods to address class imbalance. Then, we are going to re-train our classification models that we have already learnt, and see if there would be a different result! \n",
    "\n",
    "## Outline <a name=\"top\"></a>\n",
    "1. [Class Imbalance](#imbalance)\n",
    "2. [House Price Data Preparation](#cleaning)\n",
    "    1. [Stratification](#strat)\n",
    "    2. [AUC-ROC curve](#auc)\n",
    "    3. [Cohen's Kappa](#ck)\n",
    "3. [Resampling methods](#resampling)\n",
    "    1. [OverSampling](#oversampling)\n",
    "    2. [UnderSampling](#undersampling)\n",
    "    3. [SMOTE](#smote)\n",
    "6. [Activity](#activity)"
   ]
  },
  {
   "cell_type": "markdown",
   "id": "605f7730-1f16-4090-9e67-effb53152e04",
   "metadata": {
    "tags": []
   },
   "source": [
    "## Class Imbalance \n",
    "\n",
    "Class Imbalance refers to when observation in one class is higher than in other classes. Training procedures of standard classification algorithms are biased towards the majority class, as they strive to maximise classification accuracy or minimise error. If the dataframe has imbalanced classes, we get a pretty high accuracy just by predicting the majority class, but we fail to capture the minority class, which is most often the point of creating the model in the first place. \n",
    "It is common for classification problems to be imbalanced, with some of the most significant coming from application areas such as biomedicine, finance, information technology, industrial production, and security management. In most cases, it is crucial to recognise the minority class instance. "
   ]
  },
  {
   "cell_type": "code",
   "execution_count": 2,
   "id": "b07c6986",
   "metadata": {},
   "outputs": [
    {
     "name": "stdout",
     "output_type": "stream",
     "text": [
      "Requirement already satisfied: imblearn in /Users/kaijones/opt/anaconda3/lib/python3.8/site-packages (0.0)\n",
      "Requirement already satisfied: imbalanced-learn in /Users/kaijones/opt/anaconda3/lib/python3.8/site-packages (from imblearn) (0.11.0)\n",
      "Requirement already satisfied: numpy>=1.17.3 in /Users/kaijones/opt/anaconda3/lib/python3.8/site-packages (from imbalanced-learn->imblearn) (1.20.3)\n",
      "Requirement already satisfied: scikit-learn>=1.0.2 in /Users/kaijones/opt/anaconda3/lib/python3.8/site-packages (from imbalanced-learn->imblearn) (1.3.0)\n",
      "Requirement already satisfied: scipy>=1.5.0 in /Users/kaijones/opt/anaconda3/lib/python3.8/site-packages (from imbalanced-learn->imblearn) (1.10.1)\n",
      "Requirement already satisfied: threadpoolctl>=2.0.0 in /Users/kaijones/opt/anaconda3/lib/python3.8/site-packages (from imbalanced-learn->imblearn) (2.1.0)\n",
      "Requirement already satisfied: joblib>=1.1.1 in /Users/kaijones/opt/anaconda3/lib/python3.8/site-packages (from imbalanced-learn->imblearn) (1.3.1)\n"
     ]
    }
   ],
   "source": [
    "!pip install imblearn\n"
   ]
  },
  {
   "cell_type": "code",
   "execution_count": 3,
   "id": "86c6f15b",
   "metadata": {},
   "outputs": [],
   "source": [
    "### loading packages\n",
    "\n",
    "import pandas as pd\n",
    "import numpy as np\n",
    "import matplotlib.pyplot as plt\n",
    "import seaborn as sns\n",
    "import random as rand\n",
    "\n",
    "from sklearn.model_selection import train_test_split\n",
    "\n",
    "from sklearn.preprocessing import StandardScaler\n",
    "from sklearn.preprocessing import MinMaxScaler\n",
    "from sklearn import tree\n",
    "from sklearn.tree import DecisionTreeClassifier\n",
    "from sklearn.ensemble import RandomForestClassifier\n",
    "from sklearn.ensemble import GradientBoostingClassifier\n",
    "\n",
    "from sklearn.impute import SimpleImputer\n",
    "from sklearn.neighbors import NearestNeighbors\n",
    "\n",
    "from imblearn.under_sampling import RandomUnderSampler\n",
    "from imblearn.over_sampling import RandomOverSampler\n",
    "from imblearn.over_sampling import SMOTE\n",
    "\n",
    "from sklearn.metrics import f1_score, precision_score, recall_score, cohen_kappa_score, roc_curve, roc_auc_score\n",
    "\n",
    "import warnings\n",
    "\n",
    "# Suppress all warnings\n",
    "warnings.filterwarnings(\"ignore\")"
   ]
  },
  {
   "cell_type": "markdown",
   "id": "87fcee32",
   "metadata": {
    "tags": []
   },
   "source": [
    "## Data Preparation <a name=\"cleaning\"></a>\n",
    "\n",
    "We will be using the london house price data for this class imbalance demonstration again. \n",
    "\n",
    "The cleaning process would be exactly the same as last week. But we want to explore our data a bit more by looking into the distribution of our target variable. \n"
   ]
  },
  {
   "cell_type": "code",
   "execution_count": 4,
   "id": "eb76359d",
   "metadata": {},
   "outputs": [
    {
     "name": "stdout",
     "output_type": "stream",
     "text": [
      "<class 'pandas.core.frame.DataFrame'>\n",
      "Int64Index: 1468 entries, 0 to 1467\n",
      "Data columns (total 24 columns):\n",
      " #   Column                Non-Null Count  Dtype  \n",
      "---  ------                --------------  -----  \n",
      " 0   link                  1468 non-null   object \n",
      " 1   saleprice             1379 non-null   float64\n",
      " 2   address               1379 non-null   object \n",
      " 3   description           1468 non-null   object \n",
      " 4   added_date            1371 non-null   object \n",
      " 5   agent                 1468 non-null   object \n",
      " 6   property_type         1468 non-null   object \n",
      " 7   bedrooms              1468 non-null   int64  \n",
      " 8   bathrooms             1468 non-null   int64  \n",
      " 9   distance_to_station   1379 non-null   object \n",
      " 10  tenure                1254 non-null   object \n",
      " 11  leasehold_years_left  86 non-null     float64\n",
      " 12  postcode              1021 non-null   object \n",
      " 13  borough               1021 non-null   object \n",
      " 14  crime_rate            1021 non-null   float64\n",
      " 15  total_area            1379 non-null   float64\n",
      " 16  year_built            1468 non-null   int64  \n",
      " 17  property_condition    1379 non-null   float64\n",
      " 18  amenities_rating      1379 non-null   float64\n",
      " 19  garden                1468 non-null   bool   \n",
      " 20  balcony               1468 non-null   bool   \n",
      " 21  fuel_type             1379 non-null   object \n",
      " 22  sold_date             1374 non-null   object \n",
      " 23  sold_under_90days     1379 non-null   object \n",
      "dtypes: bool(2), float64(6), int64(3), object(13)\n",
      "memory usage: 266.6+ KB\n"
     ]
    }
   ],
   "source": [
    "## Read in comma separated file \n",
    "\n",
    "df = pd.read_csv('./london_house_price_data.csv',index_col = [0])\n",
    "df.info()"
   ]
  },
  {
   "cell_type": "code",
   "execution_count": 5,
   "id": "ef25aa98",
   "metadata": {},
   "outputs": [],
   "source": [
    "def clean(df):\n",
    "    ## Removing columns \n",
    "    byebye_col = ['link','address','description','added_date','sold_date','agent','postcode', 'borough']\n",
    "    df = df.drop(columns = byebye_col)\n",
    "    \n",
    "    # Remove word \"miles\" in column \"distance_to_station\"\n",
    "    df['distance_to_station'] = df['distance_to_station'].str.replace(' miles', '').astype('float')\n",
    "    \n",
    "    # Combining the property type of bungalow into house \n",
    "    df['property_type'] = df['property_type'].replace(['Detached Bungalow', 'Retirement Property', 'Semi-Detached Bungalow'], 'House')\n",
    "    \n",
    "    # Remove column leasehold_years_left\n",
    "    df = df.drop('leasehold_years_left', axis = 1)\n",
    "    \n",
    "    # Dropping rows with target variable missing\n",
    "    df.dropna(subset=['sold_under_90days'], inplace=True)\n",
    "    df['sold_under_90days'] = df['sold_under_90days'].astype(int)\n",
    "    \n",
    "    return df"
   ]
  },
  {
   "cell_type": "code",
   "execution_count": 6,
   "id": "c3a34f0a",
   "metadata": {},
   "outputs": [
    {
     "name": "stdout",
     "output_type": "stream",
     "text": [
      "<class 'pandas.core.frame.DataFrame'>\n",
      "Int64Index: 1379 entries, 0 to 1467\n",
      "Data columns (total 15 columns):\n",
      " #   Column               Non-Null Count  Dtype  \n",
      "---  ------               --------------  -----  \n",
      " 0   saleprice            1379 non-null   float64\n",
      " 1   property_type        1379 non-null   object \n",
      " 2   bedrooms             1379 non-null   int64  \n",
      " 3   bathrooms            1379 non-null   int64  \n",
      " 4   distance_to_station  1379 non-null   float64\n",
      " 5   tenure               1188 non-null   object \n",
      " 6   crime_rate           1021 non-null   float64\n",
      " 7   total_area           1379 non-null   float64\n",
      " 8   year_built           1379 non-null   int64  \n",
      " 9   property_condition   1379 non-null   float64\n",
      " 10  amenities_rating     1379 non-null   float64\n",
      " 11  garden               1379 non-null   bool   \n",
      " 12  balcony              1379 non-null   bool   \n",
      " 13  fuel_type            1379 non-null   object \n",
      " 14  sold_under_90days    1379 non-null   int64  \n",
      "dtypes: bool(2), float64(6), int64(4), object(3)\n",
      "memory usage: 153.5+ KB\n"
     ]
    }
   ],
   "source": [
    "df = clean(df)\n",
    "df.info()"
   ]
  },
  {
   "cell_type": "code",
   "execution_count": 7,
   "id": "faa9125b-6502-47ed-8b0c-43fa83a64a88",
   "metadata": {},
   "outputs": [],
   "source": [
    "## Impute missing values using Simple Imputation method - let's impute our numerical values with 'mean' value and the categorical with 'most_frequent'\n",
    "### Since we need to impute on both X_train and X_test separately, let's use a function to avoid repeating ourselves!!\n",
    "\n",
    "def impute_missing_values(df):\n",
    "    # Separate numerical and categorical features\n",
    "    num_features = df.select_dtypes(include=['float64', 'int64']).columns.tolist()\n",
    "    cat_features = df.select_dtypes(include=['object']).columns.tolist()\n",
    "\n",
    "    # Create separate SimpleImputer instances for numerical and categorical features\n",
    "    num_imputer = SimpleImputer(strategy='mean')\n",
    "    cat_imputer = SimpleImputer(strategy='most_frequent')\n",
    "\n",
    "    # Impute missing values in numerical features\n",
    "    df_num = df[num_features]\n",
    "    df_num_imputed = num_imputer.fit_transform(df_num)\n",
    "\n",
    "    # Convert the imputed numerical features back to a DataFrame\n",
    "    df_num_imputed_df = pd.DataFrame(df_num_imputed, columns=num_features)\n",
    "\n",
    "    # Impute missing values in categorical features\n",
    "    df_cat = df[cat_features]\n",
    "    df_cat_imputed = cat_imputer.fit_transform(df_cat)\n",
    "\n",
    "    # Convert the imputed categorical features back to a DataFrame\n",
    "    df_cat_imputed_df = pd.DataFrame(df_cat_imputed, columns=cat_features)\n",
    "\n",
    "    # Combine the numerical and categorical DataFrames back into one DataFrame\n",
    "    df_imputed = pd.concat([df_num_imputed_df, df_cat_imputed_df], axis=1)\n",
    "    \n",
    "    return df_imputed"
   ]
  },
  {
   "cell_type": "markdown",
   "id": "e5126589",
   "metadata": {
    "tags": []
   },
   "source": [
    "### Assess the Degree of Imbalance "
   ]
  },
  {
   "cell_type": "code",
   "execution_count": 8,
   "id": "91d37541-7b16-4db8-b622-308679b985f1",
   "metadata": {},
   "outputs": [
    {
     "data": {
      "text/plain": [
       "0.26468455402465557"
      ]
     },
     "execution_count": 8,
     "metadata": {},
     "output_type": "execute_result"
    }
   ],
   "source": [
    "# Calculate the minority class percentage \n",
    "min(df.sold_under_90days.value_counts()/len(df))\n",
    "#It's a mild to moderate imbalance"
   ]
  },
  {
   "cell_type": "code",
   "execution_count": 9,
   "id": "1bf13309-59a0-405e-939d-c6f7e16e4ba9",
   "metadata": {},
   "outputs": [
    {
     "data": {
      "image/png": "[encoded data removed]",
      "text/plain": [
       "<Figure size 432x432 with 1 Axes>"
      ]
     },
     "metadata": {
      "needs_background": "light"
     },
     "output_type": "display_data"
    }
   ],
   "source": [
    "# You can also plot a graph to view \n",
    "plt.figure(figsize=(6,6))\n",
    "sns.barplot(x=df['sold_under_90days'].value_counts().index, y=df['sold_under_90days'].value_counts().values)\n",
    "plt.title('Class Imbalance of how many properties were sold under 90 days')\n",
    "plt.xlabel('Class')\n",
    "plt.ylabel('Count')\n",
    "plt.show()"
   ]
  },
  {
   "cell_type": "markdown",
   "id": "81c16279-8f23-4d95-92d4-f9dd2374e7cf",
   "metadata": {},
   "source": [
    "### Stratification <a name=\"strat\"></a>\n",
    "\n",
    "Stratification means we are dividing our dataset into subsets (often during train-test-split/ cross-validation) in a way that each subset *maintains the same class distribution as the original dataset*. In other words, the proportion of each class in each subset is preserved, which can help prevent the majority class from dominating the learning process.\n",
    "\n",
    "**Note : this method does NOT change the data itself but rather to ensure that the train and test sets follow the same distribution as our original dataset.**\n",
    "\n",
    "Rather than using the default train_test_split provided by scikit-learn, we should try to make sure our splits accurately represent the distribution of our target variable. A very simple way to do this is to use the *stratify parameter* when calling the train_test_split function."
   ]
  },
  {
   "cell_type": "code",
   "execution_count": 10,
   "id": "25cdf0fe-b9a3-427d-bf28-05e63ba3b26b",
   "metadata": {
    "tags": []
   },
   "outputs": [],
   "source": [
    "# extract the target\n",
    "X = df.drop(columns = ['sold_under_90days'])\n",
    "y = df['sold_under_90days']\n",
    "\n",
    "# Train Test Split with stratification on target variable\n",
    "X_train, X_test, y_train, y_test = train_test_split(X, y,test_size=0.2,random_state=456, stratify = y)"
   ]
  },
  {
   "cell_type": "code",
   "execution_count": 11,
   "id": "48b3c0c6-9440-47a9-b63b-c2b25c92b072",
   "metadata": {},
   "outputs": [],
   "source": [
    "#It's important to reset the indices as this can be a bit messy after splitting - especially if we intend to reuinify those datasets\n",
    "X_train.reset_index(drop=True, inplace = True)\n",
    "y_train.reset_index(drop=True, inplace = True)"
   ]
  },
  {
   "cell_type": "code",
   "execution_count": 12,
   "id": "c78e5854-b8d6-4231-aa0d-44d5b0fdbc3c",
   "metadata": {},
   "outputs": [
    {
     "data": {
      "text/plain": [
       "1    0.735267\n",
       "0    0.264733\n",
       "Name: sold_under_90days, dtype: float64"
      ]
     },
     "execution_count": 12,
     "metadata": {},
     "output_type": "execute_result"
    }
   ],
   "source": [
    "# Checking the proportion of our target variable in both train and test set\n",
    "y_train.value_counts()/len(y_train)"
   ]
  },
  {
   "cell_type": "code",
   "execution_count": 13,
   "id": "cba43681-b3ac-4198-8fdf-f67cec5a3e63",
   "metadata": {},
   "outputs": [
    {
     "data": {
      "text/plain": [
       "1    0.735507\n",
       "0    0.264493\n",
       "Name: sold_under_90days, dtype: float64"
      ]
     },
     "execution_count": 13,
     "metadata": {},
     "output_type": "execute_result"
    }
   ],
   "source": [
    "y_test.value_counts()/len(y_test)"
   ]
  },
  {
   "cell_type": "code",
   "execution_count": 14,
   "id": "e073e406-4c66-47bc-9d91-179f1dbd8b53",
   "metadata": {},
   "outputs": [],
   "source": [
    "# Imputataion\n",
    "X_train_imputed = impute_missing_values(X_train)\n",
    "X_test_imputed = impute_missing_values(X_test)\n",
    "\n",
    "## One-hot encoding on categorical columsn before training the model \n",
    "X_train_encoded = pd.get_dummies(X_train_imputed, columns=['property_type','tenure','fuel_type'])\n",
    "X_test_encoded = pd.get_dummies(X_test_imputed, columns=['property_type', 'tenure','fuel_type'])"
   ]
  },
  {
   "cell_type": "code",
   "execution_count": 15,
   "id": "8e1c617f-d893-4551-ae88-1175aa3ef896",
   "metadata": {},
   "outputs": [
    {
     "name": "stdout",
     "output_type": "stream",
     "text": [
      "Training Accuracy:  0.8232094288304623\n",
      "Testing Accuracy:  0.8007246376811594\n"
     ]
    }
   ],
   "source": [
    "dt_strat_model = tree.DecisionTreeClassifier(max_depth=4, random_state=423)\n",
    "dt_strat_model.fit(X_train_encoded, y_train)\n",
    "train_predictions = dt_strat_model.predict(X_train_encoded)\n",
    "y_pred = dt_strat_model.predict(X_test_encoded)\n",
    "\n",
    "from sklearn.metrics import accuracy_score\n",
    "print(\"Training Accuracy: \",accuracy_score(train_predictions, y_train))\n",
    "print(\"Testing Accuracy: \",accuracy_score(y_pred, y_test))"
   ]
  },
  {
   "cell_type": "code",
   "execution_count": 16,
   "id": "2165e19b-b981-4406-bd54-fc94bf9cc909",
   "metadata": {},
   "outputs": [
    {
     "name": "stdout",
     "output_type": "stream",
     "text": [
      "0.8457943925233645\n",
      "0.8916256157635468\n"
     ]
    }
   ],
   "source": [
    "from sklearn.metrics import precision_score, recall_score\n",
    "\n",
    "precision_dt_strat = precision_score(y_test, y_pred)\n",
    "recall_dt_strat = recall_score(y_test, y_pred)\n",
    "print(precision_dt_strat)\n",
    "print(recall_dt_strat)"
   ]
  },
  {
   "cell_type": "markdown",
   "id": "ed472eb0-2df1-40f2-8b5f-1b98f6ec6dc8",
   "metadata": {
    "tags": []
   },
   "source": [
    "It seems that both precision and recall has reduced after stratification (trust me on this :D), can you think of WHY it might happen?"
   ]
  },
  {
   "cell_type": "markdown",
   "id": "d3b34488-6334-4007-94b1-206ef1403805",
   "metadata": {
    "tags": []
   },
   "source": [
    "<details>\n",
    "<summary>Click to see some potential reasons </summary>\n",
    "\n",
    "If the original dataset has a class imbalance, the model might have been biased towards the majority class, leading to a high precision for the majority class (due to correct predictions of majority class samples), but a poor recall for the minority class (due to missed predictions of minority class samples). After stratification, the training dataset becomes more balanced, allowing the model to learn from both classes more effectively. This could then cause the precision of the majority class to decrease as the model becomes more cautious in making positive predictions for the majority class. \n",
    "\n",
    "</details> \n",
    "\n"
   ]
  },
  {
   "cell_type": "markdown",
   "id": "cb259569-5eee-4d30-ab9e-c29528ddb483",
   "metadata": {
    "tags": []
   },
   "source": [
    "### AUC-ROC curve <a name=\"auc\"></a>\n",
    "\n",
    "A **receiver operating characteristic curve (ROC curve)** is another useful tool for evaluating classification models. The ROC curve is a graphical representation of a binary classifier's performance as the decision threshold is varied. By default, the threshold for predicting a label is 0.5, but it doesn't have to be. It is created by plotting the True Positive Rate (Sensitivity/Recall) on the y-axis against the False Positive Rate (1 - Specificity) on the x-axis at various threshold values. Each point on the curve represents the trade-off between the true positive rate and the false positive rate at a particular threshold. A ROC curve will for every threshold between 0 and 1 compare the true positive rate and true negative rate. \n",
    "\n",
    "You have already learnt the true positive rate- it is the recall. The false positive rate is the recall for the negative label.\n",
    "\n",
    "\\begin{equation*}\n",
    "FPR = {FP}/ {FP+TN}\n",
    "\\end{equation*}\n",
    "\n",
    "It illustrates how well the model separates the positive and negative samples as the decision threshold changes. A good classifier will have an ROC curve that rises steeply towards the top-left corner, indicating high true positive rates and low false positive rates for various threshold values.\n",
    "When you plot these metrics against each other you get a curve, the further this curve stretches into the top right of the visualisation, the better your model is at prediction. If it forms a diagonal line it is not good for prediction at all.\n",
    "\n",
    "The **AUC** is a single scalar value that summarizes the overall performance of the classifier across all possible decision thresholds. It represents the area under the ROC curve and ranges between 0 and 1.\n",
    "\n",
    "- AUC = 0.5: If the AUC is 0.5, it means the model's performance is equivalent to random chance. This is because the ROC curve coincides with the diagonal line (the line of no-discrimination), which represents a random classifier.\n",
    "\n",
    "- AUC > 0.5: An AUC greater than 0.5 indicates better-than-random performance. The closer the AUC is to 1, the better the classifier's ability to distinguish between positive and negative samples.\n",
    "\n",
    "- AUC = 1: A perfect classifier has an AUC of 1, which means it achieves perfect separation between positive and negative samples for all decision thresholds."
   ]
  },
  {
   "cell_type": "code",
   "execution_count": 17,
   "id": "4dc6aec5-98bf-4588-970a-dbcf607438e9",
   "metadata": {},
   "outputs": [
    {
     "data": {
      "image/png": "[encoded data removed]",
      "text/plain": [
       "<Figure size 576x432 with 1 Axes>"
      ]
     },
     "metadata": {
      "needs_background": "light"
     },
     "output_type": "display_data"
    },
    {
     "name": "stdout",
     "output_type": "stream",
     "text": [
      "AUC score: 0.7891220730143734\n"
     ]
    }
   ],
   "source": [
    "from sklearn.metrics import roc_curve, auc\n",
    "\n",
    "y_pred_prob = dt_strat_model.predict_proba(X_test_encoded)[:, 1]  # Probability estimates of the positive class\n",
    "fpr, tpr, thresholds = roc_curve(y_test, y_pred_prob)\n",
    "roc_auc = auc(fpr, tpr)\n",
    "\n",
    "# ROC curve\n",
    "plt.figure(figsize=(8, 6))\n",
    "plt.plot(fpr, tpr, color='darkorange', lw=2, label='ROC curve (AUC = %0.2f)' % roc_auc)\n",
    "plt.plot([0, 1], [0, 1], color='navy', lw=2, linestyle='--')\n",
    "plt.xlim([0.0, 1.0])\n",
    "plt.ylim([0.0, 1.05])\n",
    "plt.xlabel('False Positive Rate')\n",
    "plt.ylabel('True Positive Rate')\n",
    "plt.title('Receiver operating characteristic (ROC) curve')\n",
    "plt.legend(loc=\"lower right\")\n",
    "plt.show()\n",
    "\n",
    "print('AUC score:', roc_auc)"
   ]
  },
  {
   "cell_type": "markdown",
   "id": "1d784d45-a96f-4b0d-8c69-86cfd30f90a8",
   "metadata": {
    "tags": []
   },
   "source": [
    "### Cohen's Kappa <a name=\"ck\"></a>\n",
    "\n",
    "Cohen's Kappa takes into account the level of agreement between raters beyond what would be expected by chance alone. It measures the degree of agreement while considering the possibility of random agreement. The value of Kappa can range from -1 to 1:\n",
    "\n",
    "- Kappa = -1: Perfect disagreement beyond what would be expected by chance.\n",
    "- Kappa < 0: Agreement is less than what would be expected by chance.\n",
    "- Kappa = 0: Agreement is equal to what would be expected by chance.\n",
    "- Kappa > 0: Agreement is greater than what would be expected by chance.\n",
    "- Kappa = 1: Perfect agreement beyond what would be expected by chance.\n",
    "\n",
    "A Kappa value of 0 means that the observed agreement is equal to the agreement expected by chance, indicating no better than random agreement. A Kappa value greater than 0 indicates that the observed agreement is better than random, while a negative Kappa value suggests less agreement than expected by chance.\n",
    "\n",
    "Cohen's Kappa is often used when evaluating the performance of classification models, especially in cases where the class distribution is imbalanced. It helps account for the effect of chance agreement and provides a more reliable measure of agreement or performance between different raters or classifiers. A higher Kappa value indicates better agreement or classification performance."
   ]
  },
  {
   "cell_type": "code",
   "execution_count": 18,
   "id": "0273b41d-505d-44f9-a183-7a6b13a8be49",
   "metadata": {},
   "outputs": [
    {
     "name": "stdout",
     "output_type": "stream",
     "text": [
      "Cohen's Kappa: 0.4618547929665343\n"
     ]
    }
   ],
   "source": [
    "# Calculate Cohen's Kappa score\n",
    "kappa = cohen_kappa_score(y_test, y_pred)\n",
    "\n",
    "print(\"Cohen's Kappa:\", kappa)"
   ]
  },
  {
   "cell_type": "markdown",
   "id": "07b204af-91c3-46ec-8760-788aaa826454",
   "metadata": {
    "tags": []
   },
   "source": [
    "## Resampling methods <a name=\"resampling\"></a>\n",
    "\n",
    "### Oversampling - duplicating <a name=\"oversampling\"></a>\n",
    "Oversampling is when we duplicate samples from the **minority** class. We want to balance the data set by increasing the size of the minority class to match the size of the majority class – this way, our classes are equal.\n",
    "\n",
    "<img src=\"duplicating.png\" width=\"450\" align=\"center\">\n",
    "\n",
    "**Pros**\n",
    " - Does not decrease size of dataset \n",
    " - Does not lose any information \n",
    " - Can handle complex models \n",
    " \n",
    "**Cons**\n",
    "- Can increase chance of overfitting: as it creates additional samples by duplicating minority class samples, they are identical to existing samples, providing redundatn information to the model. When a model sees the same samples multiple times during training, it can become overconfident in its ability to classify them correctly. Something SMOTE can overcome...\n",
    "- May increase training time (depends on your dataset size...)\n",
    "\n",
    "### Unsampling - deleting <a name=\"undersampling\"></a>\n",
    "\n",
    "Undersampling is when we delete samples from the **majority** class. We want to balance the data set by decreasing the size of the majority class to match the size of the minority class – this way, our classes are equal.\n",
    "\n",
    "<img src=\"deleting.png\" width=\"450\" align=\"center\">\n",
    "\n",
    "Both oversampling and undersampling involve introducing a bias to select more samples from one class than from another, to compensate for an imbalance that is either already present in the data, or likely to develop if a purely random sample were taken.\n",
    "\n",
    "**Pros**\n",
    "- Does not introduce redundant information to dataset\n",
    "- Reduces training time\n",
    "\n",
    "**Cons** \n",
    "- Reduces size of dataset\n",
    "- Loss of information \n",
    "\n",
    "### SMOTE - Synthetic Minority Oversampling Technique <a name=\"smote\"></a>\n",
    "\n",
    "SMOTE is a one of the most common oversampling technique. The algorithm generates synthetic samples for the minority class by creating new synthetic data points.\n",
    "\n",
    "This is how a round of SMOTE works:\n",
    "\n",
    "- Step 1: Choose any random datapoint (i.e., a row) in the Minority Class as a starting point.\n",
    "- Step 2: Find the 5 nearest neighbours of that datapoint, considering all other variables.\n",
    "- Step 3: Pick a random one of those five nearest neighbours.\n",
    "- Step 4: Compute a synthetic datapoint the average of the neighbour and the datapoint in terms of each variable. This might be a bit whacky for any variable that is not numeric - but that is why SMOTE is generally only recommended to be used on numeric variables (although it does \"work\" with non-numeric variables too... just not as well).\n",
    "- Step 5: Add that synthetic datapoint to the entire dataset, so it can be drawn as either a starting point or a neighbour in the next round.\n",
    "\n",
    "This process will be repeated for as many rounds, until the desired ratio of minority and majority cases is reached.\n",
    "\n",
    "\n",
    "<img src=\"deleting.png\" width=\"450\" align=\"center\">\n",
    "\n",
    "There is a *imbalanced-learn* framework which was initiated in 2014 with the main focus being on **SMOTE (another technique for imbalanced data) implementation**. Here is a link to [Imbalanced-Learn](https://imbalanced-learn.org/stable/over_sampling.html) for guides on installation and the full documentation. For those who can pip install new library please do so! \n",
    "\n",
    "**However, your dearest instructor Lukas has nerded out his own \"ReSampler\" for those who cannot pip install. It allegedly works (just kidding, it's verified and works with a tiny tiny bit of caveats).** The function includes oversampling, undersampling and SMOTE - all in one. Happy days!"
   ]
  },
  {
   "cell_type": "code",
   "execution_count": 19,
   "id": "0b9e3b3a-807e-4573-b089-00de97b7414b",
   "metadata": {},
   "outputs": [],
   "source": [
    "# Optional Install\n",
    "#!pip install imblearn\n",
    "from imblearn.over_sampling import RandomOverSampler\n",
    "from imblearn.under_sampling import RandomUnderSampler\n",
    "from imblearn.over_sampling import SMOTE"
   ]
  },
  {
   "cell_type": "code",
   "execution_count": 20,
   "id": "7d23e6c1",
   "metadata": {},
   "outputs": [],
   "source": [
    "#Here is the pip free version: Our own ReSampler\n",
    "\n",
    "def ReSampler(X,y,Target,Ratio,Mode,Seed):\n",
    "    \n",
    "    #Unite X and y for the purpose of resampling\n",
    "    X[Target] = y \n",
    "    df = X\n",
    "    \n",
    "    if (Mode == 0) or (Mode == \"Over\"):\n",
    "        #Get the Minority Class\n",
    "        MinorityClass=df[Target].value_counts().loc[df[Target].value_counts()==min(df[Target].value_counts())].index[0]\n",
    "\n",
    "        #Get a df of only Minority Cases - for resampling\n",
    "        Minoritydf=df[df[Target]==MinorityClass]\n",
    "\n",
    "        #Find out how many samples we need in total\n",
    "        TargetTotal=round(max(df[Target].value_counts())/(1-Ratio))\n",
    "\n",
    "        #Find out how many of our sample need to be of the minority class, so the target ratio is reached\n",
    "        SamplesNeeded=TargetTotal-len(df)\n",
    "\n",
    "        #Initialise Resampled Df\n",
    "        ResampledDf=pd.DataFrame(np.empty((0,len(Minoritydf.columns))))\n",
    "        ResampledDf.columns=Minoritydf.columns\n",
    "\n",
    "        #Draw with replacement from the Minority Dataframe to get as many Samples as needed\n",
    "        ResampledDf=ResampledDf.append(Minoritydf.sample(int(SamplesNeeded), replace = True, axis = 0,random_state=Seed))\n",
    "\n",
    "        NewDf=df.append(ResampledDf)\n",
    "    elif (Mode == 1) or (Mode == \"Under\"):\n",
    "        #Get the Majority Class and Minority Class\n",
    "        MajorityClass=df[Target].value_counts().loc[df[Target].value_counts()==max(df[Target].value_counts())].index[0]\n",
    "        MinorityClass=df[Target].value_counts().loc[df[Target].value_counts()!=max(df[Target].value_counts())].index[0]\n",
    "\n",
    "        #Get a df of only Minority Cases - for the output\n",
    "        Minoritydf=df[df[Target]==MinorityClass]\n",
    "\n",
    "        #Get a df of only Majority Classes - for resampling\n",
    "        Majoritydf=df[df[Target]==MajorityClass]\n",
    "        \n",
    "        #Find out how many samples we need in total\n",
    "        TargetTotal=round(min(df[Target].value_counts())/(1-Ratio))\n",
    "        \n",
    "        #Find out how many of our sample need to be of the majority class, so the target ratio is reached\n",
    "        SamplesNeeded=TargetTotal-len(df)\n",
    "\n",
    "        #get a list of random numbers the length of Majoritydf\n",
    "        nums=list(range(len(Majoritydf)))\n",
    "\n",
    "        #randomly reorder these numbers and draw an amount from them equal to the length of the Minoritydf\n",
    "        rand.Random(Seed).shuffle(nums)\n",
    "        nums=nums[0:SamplesNeeded]\n",
    "\n",
    "        #Now use that shorter list of numbers to slice Majoritydf - so you you only select a random subset of that df that has the\n",
    "        #length of Minoritydf\n",
    "        Majoritydf=Majoritydf.iloc[nums,:]\n",
    "\n",
    "        #Recombine the two df\n",
    "        NewDf=Minoritydf.append(Majoritydf)\n",
    "    elif (Mode == 2) or (Mode == \"SMOTE\"):\n",
    "        #Get the Minority Class\n",
    "        MajorityClass=df[Target].value_counts().loc[df[Target].value_counts()==max(df[Target].value_counts())].index[0]\n",
    "        MinorityClass=df[Target].value_counts().loc[df[Target].value_counts()==min(df[Target].value_counts())].index[0]\n",
    "        \n",
    "        #Get a Dataframe of the MinorityClass\n",
    "        Minoritydf=df[df[Target]==MinorityClass]\n",
    "        \n",
    "        #Get a df of only Majority Classes - for resampling\n",
    "        Majoritydf=df[df[Target]==MajorityClass]\n",
    "        \n",
    "        #Standardise that dataframe (writign our own StandardScaler here is more efficient, because it saves us converting for DataFrame to array and back)\n",
    "        StandardMinoritydf=Minoritydf.copy()\n",
    "        for i in range(len(StandardMinoritydf.columns)):\n",
    "            if Minoritydf.iloc[:,i].astype(\"float\").std()==0:\n",
    "                StandardMinoritydf.iloc[:,i]=(Minoritydf.iloc[:,i].astype(\"float\")-Minoritydf.iloc[:,i].astype(\"float\").mean())\n",
    "            else:\n",
    "                StandardMinoritydf.iloc[:,i]=(Minoritydf.iloc[:,i].astype(\"float\")-Minoritydf.iloc[:,i].astype(\"float\").mean())/Minoritydf.iloc[:,i].astype(\"float\").std()\n",
    "        \n",
    "        #Initiate Nearest Neighbour Algorythm - we do 5 neighbours, as suggested in the original SMOTE paper\n",
    "        Neigh=NearestNeighbors(n_neighbors=5, algorithm='ball_tree')\n",
    "        \n",
    "        #Preallocating an empty dataframe with the same columns as our input\n",
    "        ResampledDf=pd.DataFrame(np.empty((0,len(Minoritydf.columns))))\n",
    "        ResampledDf.columns=Minoritydf.columns\n",
    "        \n",
    "        #Preallocating a counter for the loop\n",
    "        k=1\n",
    "        \n",
    "        #Setting a seed\n",
    "        np.random.seed(Seed)\n",
    "        \n",
    "        #The Main SMOTE Loop - go until the Minority data is [Ratio] percent of all data\n",
    "        while (len(StandardMinoritydf))/(len(StandardMinoritydf)+len(Majoritydf)) < Ratio:\n",
    "            \n",
    "            #get a random number for picking a random row of data later\n",
    "            i=rand.randint(0,len(StandardMinoritydf)-1)\n",
    "            \n",
    "            #get a random number for picking a random one of the datapoint's 5 nearest neighbours later\n",
    "            j=rand.randint(0,4)\n",
    "            \n",
    "            #Find the 5 nearest neighbours of all current datapoints\n",
    "            Neigh.fit(StandardMinoritydf)\n",
    "            _, indices = Neigh.kneighbors()\n",
    "            \n",
    "            #Create a new datapoint that lies exactly between a randomly chosen original datapoint, and one of its nearest neighbours (randomly chosen)\n",
    "            ResampledDf=pd.DataFrame((StandardMinoritydf.iloc[i,:].astype(\"float\")+StandardMinoritydf.iloc[indices[i][j]].astype(\"float\"))/2).transpose()\n",
    "            \n",
    "            #Give that new datapoint an index that counts up from the highest index number in the original dataset\n",
    "            ResampledDf.index=range(df.index.max()+k,df.index.max()+k+1)\n",
    "            \n",
    "            #Add the new datapoint to the standardised dataframe containing all data from the minority class\n",
    "            StandardMinoritydf=StandardMinoritydf.append(ResampledDf)\n",
    "            \n",
    "            #Increase the loop counter\n",
    "            k+=1\n",
    "\n",
    "        #For my sanity, make a copy of the now SMOTEed, but still standardised dataframe\n",
    "        NewDf=StandardMinoritydf.copy()\n",
    "        \n",
    "        #Reverse the Standardisation process by multiplying all data by the original standard deviations of their columns, and adding their columns original means\n",
    "        for i in range(len(NewDf.columns)):\n",
    "            if Minoritydf.iloc[:,i].astype(\"float\").std()==0:\n",
    "                NewDf.iloc[:,i]=(StandardMinoritydf.iloc[:,i].astype(\"float\")+Minoritydf.iloc[:,i].astype(\"float\").mean())\n",
    "            else:\n",
    "                NewDf.iloc[:,i]=(StandardMinoritydf.iloc[:,i].astype(\"float\")*Minoritydf.iloc[:,i].astype(\"float\").std())+Minoritydf.iloc[:,i].astype(\"float\").mean()\n",
    "        \n",
    "        #Unite the (SMOTEed) Minority data with the Majority data - ready to eject!\n",
    "        NewDf=Majoritydf.append(NewDf)\n",
    "    \n",
    "    #Split the output into X and y again\n",
    "    NewX = NewDf.drop(columns = [Target])\n",
    "    Newy = NewDf[Target]\n",
    "    \n",
    "    return NewX, Newy"
   ]
  },
  {
   "cell_type": "code",
   "execution_count": 21,
   "id": "8283680e-3adb-4935-87b2-2c187f363a0b",
   "metadata": {},
   "outputs": [],
   "source": [
    "# While we are on the function train, let's have another function that allows you to print the performance metric for each class balancing method \n",
    "\n",
    "def get_results(truth, prediction, df, idx):\n",
    "\n",
    "    acc = accuracy_score(y_test, y_pred)\n",
    "    f1 = f1_score(y_test, y_pred)\n",
    "    precision = precision_score(y_test, y_pred)\n",
    "    recall = recall_score(y_test, y_pred)\n",
    "    auc = roc_auc_score(y_test, y_probs)\n",
    "    kappa = cohen_kappa_score(y_test, y_pred)\n",
    "\n",
    "    df.loc[idx,:] = [acc, f1, precision, recall, auc, kappa]\n",
    "\n",
    "    return df"
   ]
  },
  {
   "cell_type": "markdown",
   "id": "f327add9-fe15-4e0a-8aa4-4dfcc78245a4",
   "metadata": {},
   "source": [
    "### Using Decision Tree to try all our resampling methods! "
   ]
  },
  {
   "cell_type": "code",
   "execution_count": 22,
   "id": "c476a5d8-0b3e-415f-a4a4-a97cfb9dab8c",
   "metadata": {},
   "outputs": [],
   "source": [
    "## Set up results df\n",
    "\n",
    "results = pd.DataFrame(index = ['No resampling', 'Oversampling', 'Undersampling','SMOTE'], \n",
    "                       columns = ['accuracy', 'f1', 'precision', 'recall','auc','kappa']) #F1 is the harmonic mean of precision and recall.\n"
   ]
  },
  {
   "cell_type": "code",
   "execution_count": 23,
   "id": "d7d5a057-b02d-454a-9796-326396653aaf",
   "metadata": {
    "tags": []
   },
   "outputs": [
    {
     "data": {
      "text/html": [
       "<div>\n",
       "<style scoped>\n",
       "    .dataframe tbody tr th:only-of-type {\n",
       "        vertical-align: middle;\n",
       "    }\n",
       "\n",
       "    .dataframe tbody tr th {\n",
       "        vertical-align: top;\n",
       "    }\n",
       "\n",
       "    .dataframe thead th {\n",
       "        text-align: right;\n",
       "    }\n",
       "</style>\n",
       "<table border=\"1\" class=\"dataframe\">\n",
       "  <thead>\n",
       "    <tr style=\"text-align: right;\">\n",
       "      <th></th>\n",
       "      <th>accuracy</th>\n",
       "      <th>f1</th>\n",
       "      <th>precision</th>\n",
       "      <th>recall</th>\n",
       "      <th>auc</th>\n",
       "      <th>kappa</th>\n",
       "    </tr>\n",
       "  </thead>\n",
       "  <tbody>\n",
       "    <tr>\n",
       "      <th>No resampling</th>\n",
       "      <td>0.793478</td>\n",
       "      <td>0.863962</td>\n",
       "      <td>0.837963</td>\n",
       "      <td>0.891626</td>\n",
       "      <td>0.808084</td>\n",
       "      <td>0.437097</td>\n",
       "    </tr>\n",
       "    <tr>\n",
       "      <th>Oversampling</th>\n",
       "      <td>NaN</td>\n",
       "      <td>NaN</td>\n",
       "      <td>NaN</td>\n",
       "      <td>NaN</td>\n",
       "      <td>NaN</td>\n",
       "      <td>NaN</td>\n",
       "    </tr>\n",
       "    <tr>\n",
       "      <th>Undersampling</th>\n",
       "      <td>NaN</td>\n",
       "      <td>NaN</td>\n",
       "      <td>NaN</td>\n",
       "      <td>NaN</td>\n",
       "      <td>NaN</td>\n",
       "      <td>NaN</td>\n",
       "    </tr>\n",
       "    <tr>\n",
       "      <th>SMOTE</th>\n",
       "      <td>NaN</td>\n",
       "      <td>NaN</td>\n",
       "      <td>NaN</td>\n",
       "      <td>NaN</td>\n",
       "      <td>NaN</td>\n",
       "      <td>NaN</td>\n",
       "    </tr>\n",
       "  </tbody>\n",
       "</table>\n",
       "</div>"
      ],
      "text/plain": [
       "               accuracy        f1 precision    recall       auc     kappa\n",
       "No resampling  0.793478  0.863962  0.837963  0.891626  0.808084  0.437097\n",
       "Oversampling        NaN       NaN       NaN       NaN       NaN       NaN\n",
       "Undersampling       NaN       NaN       NaN       NaN       NaN       NaN\n",
       "SMOTE               NaN       NaN       NaN       NaN       NaN       NaN"
      ]
     },
     "execution_count": 23,
     "metadata": {},
     "output_type": "execute_result"
    }
   ],
   "source": [
    "## Build an initial model to see how it fares despite the imbalance. Let's take something simple like a decision tree\n",
    "\n",
    "#Model training\n",
    "dt_model = tree.DecisionTreeClassifier(max_depth=4, min_samples_split=33, min_samples_leaf = 18, max_leaf_nodes = 9)\n",
    "dt_model.fit(X_train_encoded, y_train)\n",
    "\n",
    "train_predictions = dt_model.predict(X_train_encoded)\n",
    "y_pred = dt_model.predict(X_test_encoded)\n",
    "y_probs = dt_model.predict_proba(X_test_encoded)[:, 1]  # Probability estimates of the positive class\n",
    "\n",
    "# Use our function to get results \n",
    "results = get_results(y_test, y_pred, results, 'No resampling')\n",
    "results"
   ]
  },
  {
   "cell_type": "code",
   "execution_count": 24,
   "id": "3a8167f4-c3ab-475d-8128-5d62d2106422",
   "metadata": {},
   "outputs": [],
   "source": [
    "# Oversample with imblearn\n",
    "#ros = RandomOverSampler(random_state=123)\n",
    "#X_train_OverSampled, y_train_OverSampled = ros.fit_resample(X_train_encoded, y_train)  \n",
    "\n",
    "# Oversample with Lukas's function\n",
    "X_train_OverSampled, y_train_OverSampled = ReSampler(X_train_encoded, y_train,\"sold_under_90days\",0.5,\"Over\",123)"
   ]
  },
  {
   "cell_type": "code",
   "execution_count": 25,
   "id": "654f2fb8-c1ae-4c3c-b684-18369fea5718",
   "metadata": {},
   "outputs": [
    {
     "data": {
      "text/plain": [
       "1.0    811\n",
       "0.0    811\n",
       "Name: sold_under_90days, dtype: int64"
      ]
     },
     "execution_count": 25,
     "metadata": {},
     "output_type": "execute_result"
    }
   ],
   "source": [
    "#let's check our classes\n",
    "y_train_OverSampled.value_counts()"
   ]
  },
  {
   "cell_type": "code",
   "execution_count": 26,
   "id": "01cecae8-3ad0-46d6-98c9-ad4391839766",
   "metadata": {},
   "outputs": [],
   "source": [
    "#Run this if you have used imblearn\n",
    "#X_train_OverSampled=X_train_OverSampled.drop(columns=[\"sold_under_90days\"])"
   ]
  },
  {
   "cell_type": "code",
   "execution_count": 27,
   "id": "ee1038fa-560d-4b9c-b040-627aca55cc96",
   "metadata": {},
   "outputs": [
    {
     "data": {
      "text/html": [
       "<div>\n",
       "<style scoped>\n",
       "    .dataframe tbody tr th:only-of-type {\n",
       "        vertical-align: middle;\n",
       "    }\n",
       "\n",
       "    .dataframe tbody tr th {\n",
       "        vertical-align: top;\n",
       "    }\n",
       "\n",
       "    .dataframe thead th {\n",
       "        text-align: right;\n",
       "    }\n",
       "</style>\n",
       "<table border=\"1\" class=\"dataframe\">\n",
       "  <thead>\n",
       "    <tr style=\"text-align: right;\">\n",
       "      <th></th>\n",
       "      <th>accuracy</th>\n",
       "      <th>f1</th>\n",
       "      <th>precision</th>\n",
       "      <th>recall</th>\n",
       "      <th>auc</th>\n",
       "      <th>kappa</th>\n",
       "    </tr>\n",
       "  </thead>\n",
       "  <tbody>\n",
       "    <tr>\n",
       "      <th>No resampling</th>\n",
       "      <td>0.793478</td>\n",
       "      <td>0.863962</td>\n",
       "      <td>0.837963</td>\n",
       "      <td>0.891626</td>\n",
       "      <td>0.808084</td>\n",
       "      <td>0.437097</td>\n",
       "    </tr>\n",
       "    <tr>\n",
       "      <th>Oversampling</th>\n",
       "      <td>0.746377</td>\n",
       "      <td>0.81383</td>\n",
       "      <td>0.884393</td>\n",
       "      <td>0.753695</td>\n",
       "      <td>0.796984</td>\n",
       "      <td>0.423937</td>\n",
       "    </tr>\n",
       "    <tr>\n",
       "      <th>Undersampling</th>\n",
       "      <td>NaN</td>\n",
       "      <td>NaN</td>\n",
       "      <td>NaN</td>\n",
       "      <td>NaN</td>\n",
       "      <td>NaN</td>\n",
       "      <td>NaN</td>\n",
       "    </tr>\n",
       "    <tr>\n",
       "      <th>SMOTE</th>\n",
       "      <td>NaN</td>\n",
       "      <td>NaN</td>\n",
       "      <td>NaN</td>\n",
       "      <td>NaN</td>\n",
       "      <td>NaN</td>\n",
       "      <td>NaN</td>\n",
       "    </tr>\n",
       "  </tbody>\n",
       "</table>\n",
       "</div>"
      ],
      "text/plain": [
       "               accuracy        f1 precision    recall       auc     kappa\n",
       "No resampling  0.793478  0.863962  0.837963  0.891626  0.808084  0.437097\n",
       "Oversampling   0.746377   0.81383  0.884393  0.753695  0.796984  0.423937\n",
       "Undersampling       NaN       NaN       NaN       NaN       NaN       NaN\n",
       "SMOTE               NaN       NaN       NaN       NaN       NaN       NaN"
      ]
     },
     "execution_count": 27,
     "metadata": {},
     "output_type": "execute_result"
    }
   ],
   "source": [
    "# Oversampled Model training\n",
    "dt_model_over = tree.DecisionTreeClassifier(max_depth=4, min_samples_split=33, min_samples_leaf = 18, max_leaf_nodes = 9)\n",
    "dt_model_over.fit(X_train_OverSampled, y_train_OverSampled)\n",
    "\n",
    "train_predictions = dt_model_over.predict(X_train_OverSampled)\n",
    "y_pred = dt_model_over.predict(X_test_encoded)\n",
    "y_probs = dt_model_over.predict_proba(X_test_encoded)[:, 1]  # Probability estimates of the positive class\n",
    "\n",
    "# Use our function to get results \n",
    "results = get_results(y_test, y_pred, results, 'Oversampling')\n",
    "results"
   ]
  },
  {
   "cell_type": "code",
   "execution_count": 28,
   "id": "584d1903-5c07-4265-9e5e-db9483f86cd9",
   "metadata": {},
   "outputs": [],
   "source": [
    "# Undersample with imblearn\n",
    "#rus = RandomUnderSampler(random_state=123)\n",
    "#X_train_UnderSampled, y_train_UnderSampled = rus.fit_resample(X_train_encoded, y_train)  \n",
    "\n",
    "# Oversample with Lukas's function\n",
    "X_train_UnderSampled, y_train_UnderSampled = ReSampler(X_train_encoded, y_train,\"sold_under_90days\",0.5,\"Under\",125)"
   ]
  },
  {
   "cell_type": "code",
   "execution_count": 29,
   "id": "378377ab-28ae-488d-9463-93466993bbef",
   "metadata": {},
   "outputs": [
    {
     "data": {
      "text/plain": [
       "0    292\n",
       "1    292\n",
       "Name: sold_under_90days, dtype: int64"
      ]
     },
     "execution_count": 29,
     "metadata": {},
     "output_type": "execute_result"
    }
   ],
   "source": [
    "#let's check our classes\n",
    "y_train_UnderSampled.value_counts()"
   ]
  },
  {
   "cell_type": "code",
   "execution_count": 30,
   "id": "00e79122-b10d-4df6-b5a7-6dc43089289b",
   "metadata": {},
   "outputs": [],
   "source": [
    "#Run this if you have used imblearn\n",
    "#X_train_UnderSampled=X_train_UnderSampled.drop(columns=[\"sold_under_90days\"])"
   ]
  },
  {
   "cell_type": "code",
   "execution_count": 31,
   "id": "fbac116e-e7f7-4e44-acfa-6aee8d7c4e46",
   "metadata": {},
   "outputs": [
    {
     "data": {
      "text/html": [
       "<div>\n",
       "<style scoped>\n",
       "    .dataframe tbody tr th:only-of-type {\n",
       "        vertical-align: middle;\n",
       "    }\n",
       "\n",
       "    .dataframe tbody tr th {\n",
       "        vertical-align: top;\n",
       "    }\n",
       "\n",
       "    .dataframe thead th {\n",
       "        text-align: right;\n",
       "    }\n",
       "</style>\n",
       "<table border=\"1\" class=\"dataframe\">\n",
       "  <thead>\n",
       "    <tr style=\"text-align: right;\">\n",
       "      <th></th>\n",
       "      <th>accuracy</th>\n",
       "      <th>f1</th>\n",
       "      <th>precision</th>\n",
       "      <th>recall</th>\n",
       "      <th>auc</th>\n",
       "      <th>kappa</th>\n",
       "    </tr>\n",
       "  </thead>\n",
       "  <tbody>\n",
       "    <tr>\n",
       "      <th>No resampling</th>\n",
       "      <td>0.793478</td>\n",
       "      <td>0.863962</td>\n",
       "      <td>0.837963</td>\n",
       "      <td>0.891626</td>\n",
       "      <td>0.808084</td>\n",
       "      <td>0.437097</td>\n",
       "    </tr>\n",
       "    <tr>\n",
       "      <th>Oversampling</th>\n",
       "      <td>0.746377</td>\n",
       "      <td>0.81383</td>\n",
       "      <td>0.884393</td>\n",
       "      <td>0.753695</td>\n",
       "      <td>0.796984</td>\n",
       "      <td>0.423937</td>\n",
       "    </tr>\n",
       "    <tr>\n",
       "      <th>Undersampling</th>\n",
       "      <td>0.753623</td>\n",
       "      <td>0.814208</td>\n",
       "      <td>0.91411</td>\n",
       "      <td>0.73399</td>\n",
       "      <td>0.817734</td>\n",
       "      <td>0.461278</td>\n",
       "    </tr>\n",
       "    <tr>\n",
       "      <th>SMOTE</th>\n",
       "      <td>NaN</td>\n",
       "      <td>NaN</td>\n",
       "      <td>NaN</td>\n",
       "      <td>NaN</td>\n",
       "      <td>NaN</td>\n",
       "      <td>NaN</td>\n",
       "    </tr>\n",
       "  </tbody>\n",
       "</table>\n",
       "</div>"
      ],
      "text/plain": [
       "               accuracy        f1 precision    recall       auc     kappa\n",
       "No resampling  0.793478  0.863962  0.837963  0.891626  0.808084  0.437097\n",
       "Oversampling   0.746377   0.81383  0.884393  0.753695  0.796984  0.423937\n",
       "Undersampling  0.753623  0.814208   0.91411   0.73399  0.817734  0.461278\n",
       "SMOTE               NaN       NaN       NaN       NaN       NaN       NaN"
      ]
     },
     "execution_count": 31,
     "metadata": {},
     "output_type": "execute_result"
    }
   ],
   "source": [
    "# Undersampled Model training\n",
    "dt_model_under = tree.DecisionTreeClassifier(max_depth=4, min_samples_split=33, min_samples_leaf = 18, max_leaf_nodes = 9)\n",
    "dt_model_under.fit(X_train_UnderSampled, y_train_UnderSampled)\n",
    "\n",
    "train_predictions = dt_model_under.predict(X_train_UnderSampled)\n",
    "y_pred = dt_model_under.predict(X_test_encoded)\n",
    "y_probs = dt_model_under.predict_proba(X_test_encoded)[:, 1]  # Probability estimates of the positive class\n",
    "\n",
    "# Use our function to get results \n",
    "results = get_results(y_test, y_pred, results, 'Undersampling')\n",
    "results"
   ]
  },
  {
   "cell_type": "code",
   "execution_count": 32,
   "id": "ca4f72de-113f-427c-95d2-156dcda313db",
   "metadata": {},
   "outputs": [],
   "source": [
    "# SMOTE IT \n",
    "#smote = SMOTE(random_state=5)\n",
    "#X_train_SMOTE, y_train_SMOTE = smote.fit_resample(X_train_encoded, y_train)  \n",
    "\n",
    "# Oversample with Lukas's function\n",
    "X_train_SMOTE, y_train_SMOTE = ReSampler(X_train_encoded, y_train,\"sold_under_90days\",0.5,\"SMOTE\",123)"
   ]
  },
  {
   "cell_type": "code",
   "execution_count": 33,
   "id": "1b15dc75-cf10-46d5-9743-d8a77be12be6",
   "metadata": {},
   "outputs": [
    {
     "data": {
      "image/png": "[encoded data removed]",
      "text/plain": [
       "<Figure size 432x288 with 1 Axes>"
      ]
     },
     "metadata": {
      "needs_background": "light"
     },
     "output_type": "display_data"
    }
   ],
   "source": [
    "#Lets have a look at what it made\n",
    "plt.scatter(X_train_SMOTE.iloc[:,0], X_train_SMOTE.iloc[:,7]);\n",
    "plt.scatter(X_train_encoded.iloc[:,0], X_train_encoded.iloc[:,7]);"
   ]
  },
  {
   "cell_type": "code",
   "execution_count": 34,
   "id": "686d3f04-70b5-4527-9f30-ad8837b7fcda",
   "metadata": {},
   "outputs": [],
   "source": [
    "#Run this if you have used imblearn\n",
    "#X_train_SMOTE=X_train_SMOTE.drop(columns=[\"sold_under_90days\"])"
   ]
  },
  {
   "cell_type": "code",
   "execution_count": 35,
   "id": "e63fd1de-02d3-4202-9bac-71aadf197adc",
   "metadata": {
    "tags": []
   },
   "outputs": [
    {
     "data": {
      "text/html": [
       "<div>\n",
       "<style scoped>\n",
       "    .dataframe tbody tr th:only-of-type {\n",
       "        vertical-align: middle;\n",
       "    }\n",
       "\n",
       "    .dataframe tbody tr th {\n",
       "        vertical-align: top;\n",
       "    }\n",
       "\n",
       "    .dataframe thead th {\n",
       "        text-align: right;\n",
       "    }\n",
       "</style>\n",
       "<table border=\"1\" class=\"dataframe\">\n",
       "  <thead>\n",
       "    <tr style=\"text-align: right;\">\n",
       "      <th></th>\n",
       "      <th>accuracy</th>\n",
       "      <th>f1</th>\n",
       "      <th>precision</th>\n",
       "      <th>recall</th>\n",
       "      <th>auc</th>\n",
       "      <th>kappa</th>\n",
       "    </tr>\n",
       "  </thead>\n",
       "  <tbody>\n",
       "    <tr>\n",
       "      <th>No resampling</th>\n",
       "      <td>0.793478</td>\n",
       "      <td>0.863962</td>\n",
       "      <td>0.837963</td>\n",
       "      <td>0.891626</td>\n",
       "      <td>0.808084</td>\n",
       "      <td>0.437097</td>\n",
       "    </tr>\n",
       "    <tr>\n",
       "      <th>Oversampling</th>\n",
       "      <td>0.746377</td>\n",
       "      <td>0.81383</td>\n",
       "      <td>0.884393</td>\n",
       "      <td>0.753695</td>\n",
       "      <td>0.796984</td>\n",
       "      <td>0.423937</td>\n",
       "    </tr>\n",
       "    <tr>\n",
       "      <th>Undersampling</th>\n",
       "      <td>0.753623</td>\n",
       "      <td>0.814208</td>\n",
       "      <td>0.91411</td>\n",
       "      <td>0.73399</td>\n",
       "      <td>0.817734</td>\n",
       "      <td>0.461278</td>\n",
       "    </tr>\n",
       "    <tr>\n",
       "      <th>SMOTE</th>\n",
       "      <td>0.789855</td>\n",
       "      <td>0.858537</td>\n",
       "      <td>0.850242</td>\n",
       "      <td>0.866995</td>\n",
       "      <td>0.794082</td>\n",
       "      <td>0.450237</td>\n",
       "    </tr>\n",
       "  </tbody>\n",
       "</table>\n",
       "</div>"
      ],
      "text/plain": [
       "               accuracy        f1 precision    recall       auc     kappa\n",
       "No resampling  0.793478  0.863962  0.837963  0.891626  0.808084  0.437097\n",
       "Oversampling   0.746377   0.81383  0.884393  0.753695  0.796984  0.423937\n",
       "Undersampling  0.753623  0.814208   0.91411   0.73399  0.817734  0.461278\n",
       "SMOTE          0.789855  0.858537  0.850242  0.866995  0.794082  0.450237"
      ]
     },
     "execution_count": 35,
     "metadata": {},
     "output_type": "execute_result"
    }
   ],
   "source": [
    "# SMOTE-ed Model training\n",
    "dt_model_smote = tree.DecisionTreeClassifier(max_depth=4, min_samples_split=33, min_samples_leaf = 17, max_leaf_nodes = 9)\n",
    "dt_model_smote.fit(X_train_SMOTE, y_train_SMOTE)\n",
    "\n",
    "train_predictions = dt_model_smote.predict(X_train_SMOTE)\n",
    "y_pred = dt_model_smote.predict(X_test_encoded)\n",
    "y_probs = dt_model_smote.predict_proba(X_test_encoded)[:, 1]  # Probability estimates of the positive class\n",
    "\n",
    "# Use our function to get results \n",
    "results = get_results(y_test, y_pred, results, 'SMOTE')\n",
    "results"
   ]
  },
  {
   "cell_type": "code",
   "execution_count": 36,
   "id": "4448cf1d-947b-44e6-aef2-c95f16b62f00",
   "metadata": {},
   "outputs": [
    {
     "data": {
      "text/plain": [
       "0.7898550724637681"
      ]
     },
     "execution_count": 36,
     "metadata": {},
     "output_type": "execute_result"
    }
   ],
   "source": [
    "accuracy_score(y_test,y_pred)"
   ]
  },
  {
   "cell_type": "markdown",
   "id": "cbdf59e3-9848-48ba-9011-de52c12dac7f",
   "metadata": {},
   "source": [
    "## Activity - your turn! <a name=\"activity\"></a>\n",
    "\n",
    "Now it's your turn to build an Ensemble method model using a Telecom Churn dataset. \n",
    "\n",
    "1. [Revisit Cleaning Data](#cleaning)\n",
    "2. [Revisit Data cleaning](#cleaning)\n",
    "3. [Revisit Resampling methods](#resampling)\n",
    "\n",
    "Your task is to explore this synthetic telecom churn dataset to predict behaviour of customers related to churn. It is a simple dataset that allows you to explore the newly learnt ML skills. We have demonstrated using decision tree here, have a good using Random forest/ Gradient Boost and see do you have different results! \n",
    "\n",
    "### Churn dataset description \n",
    "The dataset contains information about telecommunications customer churn behaviour. It is a fictional telco company that provided mobile phone and internet services and the data is synthetic.   \n",
    "It contains approximately 4000 records, each representing a customer, and contains a total of 8 variables/ features. These variables cover a variety of aspects related to the customer behaviour, demographic and contract types.\n",
    "\n",
    "For this task, can you preduct whether customers at a fictional telecom company will exit their subscription, churn or not?"
   ]
  },
  {
   "cell_type": "code",
   "execution_count": null,
   "id": "817fcc4a-555d-4034-9862-b582d4c92a4f",
   "metadata": {},
   "outputs": [],
   "source": []
  }
 ],
 "metadata": {
  "kernelspec": {
   "display_name": "Python 3.8.5 ('base')",
   "language": "python",
   "name": "python3"
  },
  "language_info": {
   "codemirror_mode": {
    "name": "ipython",
    "version": 3
   },
   "file_extension": ".py",
   "mimetype": "text/x-python",
   "name": "python",
   "nbconvert_exporter": "python",
   "pygments_lexer": "ipython3",
   "version": "3.8.5"
  },
  "vscode": {
   "interpreter": {
    "hash": "1cae31d526d2d1c8cd0d0173936fae735ea7b418b721ff435ff5b6e012dfb5d6"
   }
  }
 },
 "nbformat": 4,
 "nbformat_minor": 5
}
